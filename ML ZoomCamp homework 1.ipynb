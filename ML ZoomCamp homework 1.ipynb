{
 "cells": [
  {
   "cell_type": "code",
   "execution_count": 28,
   "id": "ba899f63",
   "metadata": {},
   "outputs": [],
   "source": [
    "import pandas as pd\n",
    "import numpy as np"
   ]
  },
  {
   "cell_type": "code",
   "execution_count": 4,
   "id": "2b4c8a97",
   "metadata": {},
   "outputs": [
    {
     "name": "stdout",
     "output_type": "stream",
     "text": [
      "2.0.3\n"
     ]
    }
   ],
   "source": [
    "# pandas version installed\n",
    "print(pd.__version__)"
   ]
  },
  {
   "cell_type": "code",
   "execution_count": 14,
   "id": "af193f5e",
   "metadata": {},
   "outputs": [],
   "source": [
    "# importing data set \n",
    "Housing_Prices_df=pd.read_csv('C:/Users/MEGAN/Desktop/ML ZoomCamp 2023/california_Housing_Dataset.csv')"
   ]
  },
  {
   "cell_type": "code",
   "execution_count": 32,
   "id": "ba110f52",
   "metadata": {},
   "outputs": [
    {
     "data": {
      "text/plain": [
       "10"
      ]
     },
     "execution_count": 32,
     "metadata": {},
     "output_type": "execute_result"
    }
   ],
   "source": [
    "# how many columns are in the data set?\n",
    "len(Housing_Prices_df.columns)"
   ]
  },
  {
   "cell_type": "code",
   "execution_count": 21,
   "id": "2ce68d4e",
   "metadata": {},
   "outputs": [
    {
     "name": "stdout",
     "output_type": "stream",
     "text": [
      "['total_bedrooms']\n"
     ]
    }
   ],
   "source": [
    "#columns in the dataset having missing values\n",
    "missing_columns = Housing_Prices_df.columns[Housing_Prices_df.isnull().any()].tolist()\n",
    "print(missing_columns)"
   ]
  },
  {
   "cell_type": "code",
   "execution_count": 23,
   "id": "5c7a8a48",
   "metadata": {},
   "outputs": [
    {
     "name": "stdout",
     "output_type": "stream",
     "text": [
      "5\n"
     ]
    }
   ],
   "source": [
    "# number of unique values the ocean_proximity column has\n",
    "unique_ocean_proximity = Housing_Prices_df['ocean_proximity'].nunique()\n",
    "print(unique_ocean_proximity)\n"
   ]
  },
  {
   "cell_type": "code",
   "execution_count": 25,
   "id": "5418de30",
   "metadata": {},
   "outputs": [
    {
     "name": "stdout",
     "output_type": "stream",
     "text": [
      "259212.31179039303\n"
     ]
    }
   ],
   "source": [
    "# average value of the median_house_value for the houses located near the bay\n",
    "average_median_house_value_near_bay = Housing_Prices_df[Housing_Prices_df['ocean_proximity'] == 'NEAR BAY']['median_house_value'].mean()\n",
    "print(average_median_house_value_near_bay)\n"
   ]
  },
  {
   "cell_type": "code",
   "execution_count": 26,
   "id": "5a11bda4",
   "metadata": {},
   "outputs": [
    {
     "name": "stdout",
     "output_type": "stream",
     "text": [
      "Average total_bedrooms before fillna: 537.8705525375618\n",
      "Average total_bedrooms after fillna: 537.8705525375617\n"
     ]
    }
   ],
   "source": [
    "## checking to see if the mean value has changed after filling missing values?\n",
    "\n",
    "# Step 1: Calculate the average of total_bedrooms column\n",
    "average_total_bedrooms_before_fillna = Housing_Prices_df['total_bedrooms'].mean()\n",
    "\n",
    "# Step 2: Fill missing values in total_bedrooms with the mean value\n",
    "Housing_Prices_df['total_bedrooms'].fillna(average_total_bedrooms_before_fillna, inplace=True)\n",
    "\n",
    "# Step 3: Calculate the average of total_bedrooms again\n",
    "average_total_bedrooms_after_fillna = Housing_Prices_df['total_bedrooms'].mean()\n",
    "\n",
    "# Print the results\n",
    "print(\"Average total_bedrooms before fillna:\", average_total_bedrooms_before_fillna)\n",
    "print(\"Average total_bedrooms after fillna:\", average_total_bedrooms_after_fillna)\n"
   ]
  },
  {
   "cell_type": "markdown",
   "id": "c0fcee97",
   "metadata": {},
   "source": [
    "We conclude it has not changed even after filling the missing values"
   ]
  },
  {
   "cell_type": "code",
   "execution_count": 29,
   "id": "96f93527",
   "metadata": {},
   "outputs": [
    {
     "name": "stdout",
     "output_type": "stream",
     "text": [
      "Value of the last element of w: 5.6992294550655656\n"
     ]
    }
   ],
   "source": [
    "\n",
    "# Step 1: Select options located on islands\n",
    "island_options = Housing_Prices_df[Housing_Prices_df['ocean_proximity'] == 'ISLAND']\n",
    "\n",
    "# Step 2: Select columns housing_median_age, total_rooms, total_bedrooms\n",
    "selected_columns = island_options[['housing_median_age', 'total_rooms', 'total_bedrooms']]\n",
    "\n",
    "# Step 3: Get the underlying NumPy array and call it X\n",
    "X = selected_columns.to_numpy()\n",
    "\n",
    "# Step 4: Compute matrix-matrix multiplication between the transpose of X and X (XTX)\n",
    "XTX = np.dot(X.T, X)\n",
    "\n",
    "# Step 5: Compute the inverse of XTX\n",
    "XTX_inverse = np.linalg.inv(XTX)\n",
    "\n",
    "# Step 6: Create an array y\n",
    "y = np.array([950, 1300, 800, 1000, 1300])\n",
    "\n",
    "# Multiply the inverse of XTX with the transpose of X, and then multiply by y to get w\n",
    "w = np.dot(np.dot(XTX_inverse, X.T), y)\n",
    "\n",
    "# Step 7: Get the value of the last element of w\n",
    "last_element_of_w = w[-1]\n",
    "\n",
    "print(\"Value of the last element of w:\", last_element_of_w)\n"
   ]
  }
 ],
 "metadata": {
  "kernelspec": {
   "display_name": "Python 3 (ipykernel)",
   "language": "python",
   "name": "python3"
  },
  "language_info": {
   "codemirror_mode": {
    "name": "ipython",
    "version": 3
   },
   "file_extension": ".py",
   "mimetype": "text/x-python",
   "name": "python",
   "nbconvert_exporter": "python",
   "pygments_lexer": "ipython3",
   "version": "3.11.4"
  }
 },
 "nbformat": 4,
 "nbformat_minor": 5
}
